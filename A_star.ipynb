{
 "cells": [
  {
   "cell_type": "markdown",
   "metadata": {},
   "source": [
    "<img src='http://www-scf.usc.edu/~ghasemig/images/sharif.png' alt=\"SUT logo\" width=300 height=300 align=left class=\"saturate\" >\n",
    "\n",
    "<br>\n",
    "<font>\n",
    "<div dir=ltr align=center>\n",
    "<font color=0F5298 size=7>\n",
    "    Artificial Intelligence <br>\n",
    "<font color=2565AE size=5>\n",
    "    Computer Engineering Department <br>\n",
    "    Spring 2023<br>\n",
    "<font color=3C99D size=5>\n",
    "    Practical Assignment 1 - Search <br>\n",
    "<font color=696880 size=4>\n",
    "    Mohammad Mahdi Abootorabi and Roozbeh Pirayadi \n",
    "\n",
    "____"
   ]
  },
  {
   "cell_type": "markdown",
   "metadata": {},
   "source": [
    "# Personal Data"
   ]
  },
  {
   "cell_type": "code",
   "execution_count": 1,
   "metadata": {},
   "outputs": [],
   "source": [
    "# Set your student number\n",
    "student_number = '99109788 '\n",
    "Name = 'mobina'\n",
    "Last_Name = 'salimipanah'"
   ]
  },
  {
   "cell_type": "markdown",
   "metadata": {},
   "source": [
    "# Rules\n",
    "- Make sure that all of your cells can be run perfectly. "
   ]
  },
  {
   "cell_type": "markdown",
   "metadata": {},
   "source": [
    "# Q1: Elevator Ride (100 Points)"
   ]
  },
  {
   "cell_type": "markdown",
   "metadata": {},
   "source": [
    "<font size=4>\n",
    "Author: Roozbeh Pirayadi\n",
    "\t\t\t<br/>\n",
    "                <font color=red>\n",
    "Please run all the cells.\n",
    "     </font>\n",
    "</font>\n",
    "                <br/>\n",
    "    </div>"
   ]
  },
  {
   "cell_type": "markdown",
   "metadata": {},
   "source": [
    "## Problem Definition"
   ]
  },
  {
   "cell_type": "markdown",
   "metadata": {},
   "source": [
    "Computer Engineering department has two floors. There are N students and M professors on the first floor, all of whom, want to go from the first floor to the second floor. The only way to move from the first floor to the second one is by using an elevator. \n",
    "\n",
    "At most two people can fit in the elevator at the same time. Also, the elevator cannot operate by itself. This means that when the elevator moves up or down, there is either one person in the elevator or there are two people in it. \n",
    "\n",
    "But there is a problem. \n",
    "If in any of the mentioned floors, there are more students than proffesors, students will start asking questions from the professors. Professors are not willing to answer any question. So none of them wants to be in a floor where the number of students is more than the number of professors. Note that when there is no professor in the floor the number of students is not important. But when there is, the number of students must be less than or equal to the number of professors.\n",
    "\n",
    "Our goal is to find a schedule for the people to get on the elevator so that this constraint is satisfied.\n",
    "\n",
    "Below you can see a solution for 4 students and 4 professors"
   ]
  },
  {
   "cell_type": "markdown",
   "metadata": {},
   "source": [
    "![SegmentLocal](images/result_of_5_3.gif \"segment\")"
   ]
  },
  {
   "cell_type": "markdown",
   "metadata": {},
   "source": [
    "Every state in the discussed problem could be represented as a 5-tuple (s1, p1, s2, p2, e). Where s1 is the number of students in the first floor, p1 is the number of professors in the first floor, s2 is the number of students in the second floor and p2 is the number of professors in the second floor. Finally e shows which floor the elevator is.\n",
    "\n",
    "Our goal is to find a feasible solution. we will do this by starting from the initial state and searching for the final state. Note that there may be more than one way to the final state so the solution is not unique."
   ]
  },
  {
   "cell_type": "markdown",
   "metadata": {},
   "source": [
    "## Solution"
   ]
  },
  {
   "cell_type": "markdown",
   "metadata": {},
   "source": [
    "### Graph"
   ]
  },
  {
   "cell_type": "markdown",
   "metadata": {},
   "source": [
    "Below is an implementation of a directed weighted graph. You don't need to change anything in this cell. Just take a look at the code, so you could use it."
   ]
  },
  {
   "cell_type": "code",
   "execution_count": 2,
   "metadata": {},
   "outputs": [],
   "source": [
    "###########################################\n",
    "###### no need to change any thing ########\n",
    "###########################################\n",
    "class graph:\n",
    "    def __init__(self):\n",
    "        self.graph = {}\n",
    "        self.visited = {}\n",
    "\n",
    "    # add a new edge between v1 and v2 with weight w or update the weight if edge already exists\n",
    "    def append(self, v1, v2, w):\n",
    "        if v1 not in self.graph.keys():\n",
    "            self.graph[v1] = {}\n",
    "            self.visited[v1] = 0\n",
    "        if v2 not in self.graph.keys():\n",
    "            self.graph[v2] = {}\n",
    "            self.visited[v2] = 0\n",
    "        self.graph[v1][v2] = w\n",
    "\n",
    "    # return adjacency list (used for debugging)\n",
    "    def reveal(self):\n",
    "        return self.graph\n",
    "\n",
    "    # return all vertices in the graph\n",
    "    def vertex(self):\n",
    "        return list(self.graph.keys())\n",
    "\n",
    "    # return all neighbours of a vertix as a list\n",
    "\n",
    "    def neighbour(self, v):\n",
    "        return list(self.graph[v].keys())\n",
    "\n",
    "    # return the weight of a edge\n",
    "\n",
    "    def weight(self, v1, v2):\n",
    "        return (self.graph[v1][v2])\n",
    "\n",
    "    # return the number of vertices\n",
    "\n",
    "    def order(self):\n",
    "        return len(self.graph)\n",
    "\n",
    "    # visit a particular vertex\n",
    "    def visit(self, v):\n",
    "        self.visited[v] = 1\n",
    "\n",
    "    # return the visit status of a particular vertex\n",
    "    def is_visited(self, vertexid):\n",
    "        return self.visited[vertexid]\n",
    "\n",
    "    # return which vertices have been visited\n",
    "    def get_visited(self):\n",
    "        return self.visited\n",
    "\n",
    "    # return degree of a particular vertex\n",
    "    def degree(self, vertexid):\n",
    "        return len(self.graph[vertexid])\n",
    "\n",
    "    # unvisit the whole graph        if whole is True\n",
    "    # unvisit a particular vertex    if whole is False\n",
    "    def clear(self, v=None, whole=False):\n",
    "        if whole:\n",
    "            self.visited = dict(zip(self.graph.keys(), [0 for i in range(len(self.graph))]))\n",
    "        elif v is not None:\n",
    "            self.visited[v] = 0\n",
    "        else:\n",
    "            assert False, \"arguments must satisfy whole=True or v not None\"\n"
   ]
  },
  {
   "cell_type": "markdown",
   "metadata": {},
   "source": [
    "#### Building the graph of states"
   ]
  },
  {
   "cell_type": "markdown",
   "metadata": {},
   "source": [
    "Let's start by a little example and consider a situation where we there are 3 students and 3 professors. Note that your code should be written for the general case using the variables N and M."
   ]
  },
  {
   "cell_type": "code",
   "execution_count": 3,
   "metadata": {},
   "outputs": [],
   "source": [
    "# Number of Students\n",
    "N = 3\n",
    "# Number of Professors\n",
    "M = 3"
   ]
  },
  {
   "cell_type": "markdown",
   "metadata": {},
   "source": [
    "First let's implement a function that receives a 4-tuple (s1, p1, s2, p2) as an input and checks whether this state is a valid one or not. Note that e (position of the elevator) cannot affect the validity of a state so it is not provided as an input."
   ]
  },
  {
   "cell_type": "code",
   "execution_count": 4,
   "metadata": {},
   "outputs": [],
   "source": [
    "# validate a state (s1, p1, s2, p2)\n",
    "# if the constraints are satisfied return true, else return false\n",
    "def validate(input):\n",
    "\n",
    "     s1, p1, s2, p2 = input\n",
    "    \n",
    "     if s1 < 0 or s2 < 0 or p1 < 0 or p2 < 0:\n",
    "        return False\n",
    "     if s2<=p2 and s1<=p1:\n",
    "        return True\n",
    "     if (p1 == 0 or p2 == 0):\n",
    "        return True\n",
    "     else:\n",
    "        return False\n",
    "\n",
    "\n"
   ]
  },
  {
   "cell_type": "markdown",
   "metadata": {},
   "source": [
    "The below function must build the whole graph. Each scenario is a vertex and v1 is connected to v2 with weight 1 if scenario in v1 could be changed to the scenario in v2 by only one traversal of the elevator.\n",
    "\n",
    "Hint: you can iterate over different values of s1, p1 and e and determine s2 and p2 using N and M. Then you can check all different actions and use the validate function to determine whether taking this action is possible or not."
   ]
  },
  {
   "cell_type": "code",
   "execution_count": 5,
   "metadata": {},
   "outputs": [],
   "source": [
    "# builds the complete graph\n",
    "def build_graph(N, M):\n",
    "    G = graph()\n",
    "    #############################################\n",
    "    ###  complete this function (25 Points)   ###\n",
    "    #############################################\n",
    "    for s1 in range(N+1):\n",
    "        for p1 in range(M+1):\n",
    "            s2 = N - s1\n",
    "            p2 = M - p1\n",
    "            \n",
    "            state = (s1, p1, s2, p2) #e = 1\n",
    "            if validate(state) and validate((s1-1,p1,s2+1,p2)):\n",
    "                G.append((s1, p1, s2, p2,1),(s1-1,p1,s2+1,p2,2),1)\n",
    "            if validate(state) and validate((s1-2,p1,s2+2,p2)):\n",
    "                G.append((s1, p1, s2, p2,1),(s1-2,p1,s2+2,p2,2),1)\n",
    "            if validate(state) and validate((s1,p1-1,s2,p2+1)):\n",
    "                G.append((s1, p1, s2, p2,1),(s1,p1-1,s2,p2+1,2),1)\n",
    "            if validate(state) and validate((s1,p1-2,s2,p2+2)):\n",
    "                G.append((s1, p1, s2, p2,1),(s1,p1-2,s2,p2+2,2),1)\n",
    "            if validate(state) and validate((s1-1, p1-1, s2+1, p2+1)):\n",
    "                G.append((s1, p1, s2, p2,1),(s1-1, p1-1, s2+1, p2+1,2),1)\n",
    "                \n",
    "            state = (s1, p1, s2, p2) #e = 2\n",
    "            if validate(state) and validate((s1+1,p1,s2-1,p2)):\n",
    "                G.append((s1, p1, s2, p2,2),(s1+1,p1,s2-1,p2,1),1)\n",
    "            if validate(state) and validate((s1+2,p1,s2-2,p2)):\n",
    "                G.append((s1, p1, s2, p2,2),(s1+2,p1,s2-2,p2,1),1)\n",
    "            if validate(state) and validate((s1,p1+1,s2,p2-1)):\n",
    "                G.append((s1, p1, s2, p2,2),(s1,p1+1,s2,p2-1,1),1)\n",
    "            if validate(state) and validate((s1,p1+2,s2,p2-2)):\n",
    "                G.append((s1, p1, s2, p2,2),(s1,p1+2,s2,p2-2,1),1)\n",
    "            if validate(state) and validate((s1+1, p1+1, s2-1, p2-1)):\n",
    "                G.append((s1, p1, s2, p2,2),(s1+1, p1+1, s2-1, p2-1,1),1)\n",
    "\n",
    "    \n",
    "    return G\n"
   ]
  },
  {
   "cell_type": "code",
   "execution_count": 6,
   "metadata": {},
   "outputs": [],
   "source": [
    "G = build_graph(N, M)"
   ]
  },
  {
   "cell_type": "markdown",
   "metadata": {},
   "source": [
    "### Depth First Search"
   ]
  },
  {
   "cell_type": "markdown",
   "metadata": {},
   "source": [
    "The first algorithm we use to solve the problem is Depth First Search. The function below  executes DFS on G from start until it reaches end. Note that if end is not reachable from start this function returns false and otherwise it returns the found path as a list of states. DFS code is completely and it is used as a baseline to evaulute your A* implementation in the next part."
   ]
  },
  {
   "cell_type": "code",
   "execution_count": 7,
   "metadata": {},
   "outputs": [],
   "source": [
    "###########################################\n",
    "###### no need to change any thing ########\n",
    "###########################################\n",
    "# Depth First Search to find the path from start to end\n",
    "def run_dfs(G, start, end):\n",
    "    queue = []\n",
    "    queue.append(start)\n",
    "\n",
    "    # pred keeps track of how we got to the current vertex\n",
    "    pred = {}\n",
    "\n",
    "    while queue:\n",
    "        current = queue.pop(0)\n",
    "        G.visit(current)\n",
    "\n",
    "        smallq = []\n",
    "\n",
    "        # find children and add to the priority\n",
    "        for newpos in G.neighbour(current):\n",
    "            if not G.is_visited(newpos):\n",
    "                # if the child vertex has already been in queue\n",
    "                # move it to the frontline of queue\n",
    "                if newpos in queue:\n",
    "                    queue.remove(newpos)\n",
    "                smallq.append(newpos)\n",
    "                pred[newpos] = current\n",
    "\n",
    "        queue = smallq+queue\n",
    "\n",
    "        # traversal ends when the target is met\n",
    "        if current == end:\n",
    "            break\n",
    "\n",
    "    if current != end:\n",
    "        return False\n",
    "\n",
    "    # create the path by backtracking\n",
    "    # trace the predecessor vertex from end to start\n",
    "    previous = end\n",
    "    path = []\n",
    "    while pred:\n",
    "        path.insert(0, previous)\n",
    "        if previous == start:\n",
    "            break\n",
    "        previous = pred[previous]\n",
    "\n",
    "    return path\n"
   ]
  },
  {
   "cell_type": "code",
   "execution_count": 8,
   "metadata": {},
   "outputs": [],
   "source": [
    "start_vertex = (N, M, 0, 0, 1)\n",
    "end_vertex = (0, 0, N, M, 2)"
   ]
  },
  {
   "cell_type": "code",
   "execution_count": 9,
   "metadata": {
    "scrolled": true
   },
   "outputs": [
    {
     "name": "stdout",
     "output_type": "stream",
     "text": [
      "length of the path DFS has found: 11\n",
      "number of vertices DFS has traveled: 13\n"
     ]
    }
   ],
   "source": [
    "###########################################\n",
    "###### no need to change any thing ########\n",
    "###########################################\n",
    "def dfs_result(G, start_vertex, end_vertex):\n",
    "\n",
    "    dfs_path = run_dfs(G, start_vertex, end_vertex)\n",
    "\n",
    "    num_of_visited_dfs = 0\n",
    "    num_of_visited_dfs = len([i for i in G.get_visited() if G.get_visited()[i] == 1])\n",
    "\n",
    "    G.clear(whole=True)\n",
    "\n",
    "    if not dfs_path:\n",
    "        print(\"end vertex not reachable\")\n",
    "    else:\n",
    "        print(f'length of the path DFS has found:', len(dfs_path) - 1)\n",
    "\n",
    "    print(f'number of vertices DFS has traveled:', num_of_visited_dfs)\n",
    "\n",
    "\n",
    "dfs_result(G, start_vertex, end_vertex)\n"
   ]
  },
  {
   "cell_type": "markdown",
   "metadata": {},
   "source": [
    "### A* Algorithm"
   ]
  },
  {
   "cell_type": "markdown",
   "metadata": {},
   "source": [
    "Next we use the A* algorithm. To use A* we need to propose a heuristic function. Propose a non-trivial heuristic function and argue that it is admissible. (10 Points)\n",
    "\n"
   ]
  },
  {
   "cell_type": "markdown",
   "metadata": {},
   "source": [
    "<font color='blue'>\n",
    "\n",
    "$$\n",
    " h((s1, p1, s2, p2, e)) = (s1 + p1)-1\n",
    "$$\n",
    "\n",
    "Your explanation. s1 + s2 = all in first floor\n",
    "\n",
    "طبق صورت سوال در هر مرحله آسانسور حداکثر دو نفر را می‌تواند حمل کند و هنگام برگشت نیز حداقل یک نفر باید در آن باشد زیرا اسانسور به صورت خودکار کار نمی کند. بنابراین هنگامیکه از طبقه دوم می‌خواهیم به طبقه اول برگردیم حداکثر یک نفر دیگر را می‌توانیم سوار کنیم. با توجه به این موضوع برای اینکه بتوانیم همه افرادی که در طبقه اول هستند را به طبقه دوم  ببریم آسانسور باید(s1 + p1)-1 مرتبه جا به جا شود\n",
    "\n",
    "     \n",
    "\n",
    "\n",
    "</font>\n",
    "\n"
   ]
  },
  {
   "cell_type": "code",
   "execution_count": 10,
   "metadata": {},
   "outputs": [],
   "source": [
    "def heuristic_func(input):\n",
    "    s1, p1, s2, p2, e = input\n",
    "\n",
    "    return (s1+p1) - 1\n"
   ]
  },
  {
   "cell_type": "markdown",
   "metadata": {},
   "source": [
    "Like DFS if end is not reachable from start A* must return false and otherwise it must return the found path as a list of states."
   ]
  },
  {
   "cell_type": "code",
   "execution_count": 11,
   "metadata": {},
   "outputs": [],
   "source": [
    "#A* to find the path from start to end\n",
    "import heapq\n",
    "\n",
    "def run_a_star(G, start, end):\n",
    "    parent_nodes = {}\n",
    "    priorityQ = []\n",
    "    heapq.heappush(priorityQ, (heuristic_func(start),start,0))\n",
    "    path = []\n",
    "    path.append(start)\n",
    "    \n",
    "    while len(priorityQ) != 0:\n",
    "        cost, node, d = heapq.heappop(priorityQ)\n",
    "        G.visit(node)\n",
    "        if node == end:\n",
    "            break\n",
    "        for neighbour in G.neighbour(node):\n",
    "            if G.is_visited(neighbour):\n",
    "                continue\n",
    "            parent_nodes[neighbour] = node\n",
    "            total_cost = heuristic_func(neighbour) + G.weight(node , neighbour) + d\n",
    "            heapq.heappush(priorityQ, (total_cost, neighbour, G.weight(node , neighbour) + d))\n",
    "                \n",
    "            \n",
    "    path = []\n",
    "    path.append(start)\n",
    "    final = end\n",
    "    while final != start:\n",
    "        final = parent_nodes[final]\n",
    "        path.append(final)\n",
    "\n",
    "    return path[::-1]\n"
   ]
  },
  {
   "cell_type": "code",
   "execution_count": null,
   "metadata": {
    "scrolled": true
   },
   "outputs": [],
   "source": [
    "###########################################\n",
    "###### no need to change any thing ########\n",
    "###########################################\n",
    "def a_star_result(G, start_vertex, end_vertex):\n",
    "\n",
    "    a_star_path = run_a_star(G, start_vertex, end_vertex)\n",
    "\n",
    "    num_of_visited_a_star = 0\n",
    "    num_of_visited_a_star = len([i for i in G.get_visited() if G.get_visited()[i] == 1])\n",
    "\n",
    "    G.clear(whole=True)\n",
    "\n",
    "    if not a_star_path:\n",
    "        print(\"end vertex not reachable\")\n",
    "    else:\n",
    "        print(f'length of the path A* has found:', len(a_star_path) - 1)\n",
    "\n",
    "    print(f'number of vertices A* has traveled:', num_of_visited_a_star)\n",
    "\n",
    "\n",
    "a_star_result(G, start_vertex, end_vertex)\n"
   ]
  },
  {
   "cell_type": "markdown",
   "metadata": {},
   "source": [
    "## Visualization"
   ]
  },
  {
   "cell_type": "markdown",
   "metadata": {},
   "source": [
    "The below code creates a gif named \"result.gif\" which shows the result found by A* algorithm."
   ]
  },
  {
   "cell_type": "code",
   "execution_count": null,
   "metadata": {},
   "outputs": [],
   "source": [
    "import drawer\n",
    "drawer.create_gif(run_a_star(G, start_vertex, end_vertex))\n",
    "G.clear(whole=True)"
   ]
  },
  {
   "cell_type": "markdown",
   "metadata": {},
   "source": [
    "## Results"
   ]
  },
  {
   "cell_type": "markdown",
   "metadata": {},
   "source": [
    "Now results of DFS and A* could be compared. Run the code below and explain the result. (10 Points)"
   ]
  },
  {
   "cell_type": "code",
   "execution_count": null,
   "metadata": {},
   "outputs": [],
   "source": [
    "N = 100\n",
    "M = 140\n",
    "\n",
    "start_vertex = (N, M, 0, 0, 1)\n",
    "end_vertex = (0, 0, N, M, 2)\n",
    "\n",
    "G = build_graph(N, M)\n",
    "\n",
    "dfs_result(G, start_vertex, end_vertex)\n",
    "a_star_result(G, start_vertex, end_vertex)\n"
   ]
  },
  {
   "cell_type": "markdown",
   "metadata": {},
   "source": [
    "<font color='pink'>\n",
    "\n",
    "Your explanation.\n",
    " عملکرد الگوریتم جستجوی عمق اول اینگونه است که در هر مرحله براساس عمق یک مسیر رندوم را انتخاب میکند و سرچ روی آن را تا زمانیکه به هدف برسد ادامه میدهد بنابر این برای پیدا کردن کوتاه ترین مسیر مناسب نیست زیرا هر مسیری را که صرفا به هدف برسد خروجی میدهد وهمانطور که در نتیجه قابل مشاهده است طول مسیر آن از الگوریتم آ-استار بیشتر است. الگوریتم آ-استار به دلیل استفاده از تابع اکتشافی مسیر کوتاه تری را می‌تواند پیدا کند. \n",
    "    همچنین تعداد راس‌های مشاهده شده در الگوریتم آ-استار از جستجوی عمق اول بیشتر است زیرا این الگوریتم به دنبال پیدا کردن کوتاه ترین مسیر می‌باشد و به همین دلیل  راس‌های خیلی بیشتری را باید بررسی کند.\n",
    "\n",
    "</font>"
   ]
  },
  {
   "cell_type": "markdown",
   "metadata": {},
   "source": [
    "Cell below runs some tests on dfs and stores the results in \"student_number.txt\". Then run the cell and upload the result on Quera."
   ]
  },
  {
   "cell_type": "code",
   "execution_count": null,
   "metadata": {},
   "outputs": [],
   "source": [
    "tests = [(100, 140), (200, 260), (600, 610), (800, 1000)]\n",
    "\n",
    "f = open(student_number + \".txt\", \"w\")\n",
    "\n",
    "\n",
    "def run_tests():\n",
    "    for test in tests:\n",
    "        N, M = test\n",
    "        G = graph()\n",
    "        start_vertex = (N, M, 0, 0, 1)\n",
    "        end_vertex = (0, 0, N, M, 2)\n",
    "\n",
    "        G = build_graph(N, M)\n",
    "\n",
    "        f.write(str(run_a_star(G, start_vertex, end_vertex)))\n",
    "        G.clear(whole=True)\n",
    "\n",
    "    f.close()\n",
    "\n",
    "\n",
    "run_tests()\n"
   ]
  }
 ],
 "metadata": {
  "kernelspec": {
   "display_name": "Python 3",
   "language": "python",
   "name": "python3"
  },
  "language_info": {
   "codemirror_mode": {
    "name": "ipython",
    "version": 3
   },
   "file_extension": ".py",
   "mimetype": "text/x-python",
   "name": "python",
   "nbconvert_exporter": "python",
   "pygments_lexer": "ipython3",
   "version": "3.9.13"
  },
  "vscode": {
   "interpreter": {
    "hash": "f72c34bb2e2aa76acaec51e5a386e2497fab8a5e682a38cfc0469e5a4ec35b0f"
   }
  }
 },
 "nbformat": 4,
 "nbformat_minor": 2
}
